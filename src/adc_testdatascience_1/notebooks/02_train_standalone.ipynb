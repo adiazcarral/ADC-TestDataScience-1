{
 "cells": [
  {
   "cell_type": "markdown",
   "id": "c040d37f",
   "metadata": {},
   "source": [
    "# Training Notebook (Standalone)\n",
    "This notebook trains a model on MNIST without importing from the package."
   ]
  },
  {
   "cell_type": "code",
   "execution_count": 2,
   "id": "801c37d7",
   "metadata": {},
   "outputs": [],
   "source": [
    "\n",
    "import torch\n",
    "import torch.nn as nn\n",
    "import torch.optim as optim\n",
    "from torchvision import datasets, transforms\n",
    "from torch.utils.data import DataLoader, random_split, Subset\n",
    "import random, os\n",
    "    "
   ]
  },
  {
   "cell_type": "code",
   "execution_count": 3,
   "id": "afbe60a4",
   "metadata": {},
   "outputs": [],
   "source": [
    "\n",
    "# Set seed and device\n",
    "seed = 42\n",
    "random.seed(seed)\n",
    "torch.manual_seed(seed)\n",
    "device = torch.device(\"cuda\" if torch.cuda.is_available() else \"cpu\")\n",
    "    "
   ]
  },
  {
   "cell_type": "code",
   "execution_count": 4,
   "id": "536cf7af",
   "metadata": {},
   "outputs": [],
   "source": [
    "\n",
    "# Data preparation with balanced validation split\n",
    "def get_dataloaders(batch_size=64, subset_fraction=1.0, seed=42):\n",
    "    transform = transforms.Compose([\n",
    "        transforms.RandomRotation(degrees=(-180, 180)),\n",
    "        transforms.ToTensor(),\n",
    "        transforms.Normalize((0.1307,), (0.3081,))\n",
    "    ])\n",
    "    full_dataset = datasets.MNIST('data', train=True, download=True, transform=transform)\n",
    "    \n",
    "    if subset_fraction < 1.0:\n",
    "        class_indices = {i: [] for i in range(10)}\n",
    "        for idx, (_, label) in enumerate(full_dataset):\n",
    "            class_indices[label].append(idx)\n",
    "        samples_per_class = int((len(full_dataset) * subset_fraction) / 10)\n",
    "        balanced_indices = [random.sample(class_indices[i], samples_per_class) for i in range(10)]\n",
    "        balanced_indices = [item for sublist in balanced_indices for item in sublist]\n",
    "        random.shuffle(balanced_indices)\n",
    "        subset = Subset(full_dataset, balanced_indices)\n",
    "    else:\n",
    "        subset = full_dataset\n",
    "\n",
    "    train_size = int(0.8 * len(subset))\n",
    "    val_size = len(subset) - train_size\n",
    "    train_set, val_set = random_split(subset, [train_size, val_size])\n",
    "\n",
    "    test_set = datasets.MNIST('data', train=False, download=True, transform=transform)\n",
    "    return (\n",
    "        DataLoader(train_set, batch_size=batch_size, shuffle=True),\n",
    "        DataLoader(val_set, batch_size=batch_size),\n",
    "        DataLoader(test_set, batch_size=batch_size)\n",
    "    )\n",
    "    "
   ]
  },
  {
   "cell_type": "code",
   "execution_count": 5,
   "id": "7783cd87",
   "metadata": {},
   "outputs": [],
   "source": [
    "\n",
    "# Simple Logistic Regression model\n",
    "class LogisticRegression(nn.Module):\n",
    "    def __init__(self):\n",
    "        super().__init__()\n",
    "        self.linear = nn.Linear(28*28, 10)\n",
    "\n",
    "    def forward(self, x):\n",
    "        x = x.view(x.size(0), -1)\n",
    "        return self.linear(x)\n",
    "    "
   ]
  },
  {
   "cell_type": "code",
   "execution_count": 6,
   "id": "07ab4196",
   "metadata": {},
   "outputs": [],
   "source": [
    "\n",
    "# Training function\n",
    "def train_model(model, train_loader, val_loader, device, epochs=5):\n",
    "    model.to(device)\n",
    "    criterion = nn.CrossEntropyLoss()\n",
    "    optimizer = optim.Adam(model.parameters(), lr=1e-3)\n",
    "\n",
    "    for epoch in range(epochs):\n",
    "        model.train()\n",
    "        running_loss = 0.0\n",
    "        for inputs, targets in train_loader:\n",
    "            inputs, targets = inputs.to(device), targets.to(device)\n",
    "            outputs = model(inputs)\n",
    "            loss = criterion(outputs, targets)\n",
    "\n",
    "            optimizer.zero_grad()\n",
    "            loss.backward()\n",
    "            optimizer.step()\n",
    "            running_loss += loss.item()\n",
    "\n",
    "        print(f\"Epoch {epoch+1}, Loss: {running_loss / len(train_loader):.4f}\")\n",
    "\n",
    "    print(\"Training complete\")\n",
    "    return model\n",
    "    "
   ]
  },
  {
   "cell_type": "code",
   "execution_count": 7,
   "id": "37e7ebec",
   "metadata": {},
   "outputs": [
    {
     "name": "stdout",
     "output_type": "stream",
     "text": [
      "Epoch 1, Loss: 1.9761\n",
      "Epoch 2, Loss: 1.6079\n",
      "Epoch 3, Loss: 1.5089\n",
      "Epoch 4, Loss: 1.4659\n",
      "Epoch 5, Loss: 1.4462\n",
      "Training complete\n"
     ]
    }
   ],
   "source": [
    "\n",
    "# Run training\n",
    "train_loader, val_loader, test_loader = get_dataloaders(subset_fraction=0.05)\n",
    "model = LogisticRegression()\n",
    "trained_model = train_model(model, train_loader, val_loader, device)\n",
    "    "
   ]
  },
  {
   "cell_type": "code",
   "execution_count": null,
   "id": "9401de3b",
   "metadata": {},
   "outputs": [],
   "source": []
  }
 ],
 "metadata": {
  "kernelspec": {
   "display_name": "base",
   "language": "python",
   "name": "python3"
  },
  "language_info": {
   "codemirror_mode": {
    "name": "ipython",
    "version": 3
   },
   "file_extension": ".py",
   "mimetype": "text/x-python",
   "name": "python",
   "nbconvert_exporter": "python",
   "pygments_lexer": "ipython3",
   "version": "3.9.17"
  }
 },
 "nbformat": 4,
 "nbformat_minor": 5
}
