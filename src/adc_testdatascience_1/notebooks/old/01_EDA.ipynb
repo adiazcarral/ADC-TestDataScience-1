{
 "cells": [
  {
   "cell_type": "markdown",
   "id": "799d3444",
   "metadata": {},
   "source": [
    "# 🧪 EDA and Preprocessing - QM7b Dataset\n",
    "This notebook performs exploratory data analysis and preprocessing for a classification task based on the QM7b dataset."
   ]
  },
  {
   "cell_type": "code",
   "execution_count": null,
   "id": "8743cc8a",
   "metadata": {},
   "outputs": [],
   "source": [
    "\n",
    "import pandas as pd\n",
    "import numpy as np\n",
    "import matplotlib.pyplot as plt\n",
    "import seaborn as sns\n",
    "\n",
    "from sklearn.model_selection import train_test_split\n",
    "from sklearn.preprocessing import StandardScaler\n",
    "from sklearn.cluster import KMeans\n",
    "\n",
    "import torch\n",
    "from torch_geometric.datasets import QM7b\n",
    "from torch_geometric.transforms import Distance\n",
    "from torch_geometric.loader import DataLoader\n",
    "\n",
    "sns.set(style=\"whitegrid\")\n"
   ]
  },
  {
   "cell_type": "markdown",
   "id": "b0564607",
   "metadata": {},
   "source": [
    "## 📥 Load QM7b Dataset"
   ]
  },
  {
   "cell_type": "code",
   "execution_count": null,
   "id": "d25ebd0e",
   "metadata": {},
   "outputs": [],
   "source": [
    "\n",
    "dataset = QM7b(root=\"data/qm7b\", transform=Distance(norm=False))\n",
    "print(f\"Dataset size: {len(dataset)}\")\n",
    "print(dataset[0])\n"
   ]
  },
  {
   "cell_type": "markdown",
   "id": "3bf9328b",
   "metadata": {},
   "source": [
    "## 🧪 Create Labels Based on HOMO-LUMO Gap"
   ]
  },
  {
   "cell_type": "code",
   "execution_count": null,
   "id": "7dceab9e",
   "metadata": {},
   "outputs": [],
   "source": [
    "\n",
    "data_list = []\n",
    "energy_gaps = []\n",
    "\n",
    "for data in dataset:\n",
    "    homo = data.homo.item()\n",
    "    lumo = data.lumo.item()\n",
    "    gap = lumo - homo\n",
    "    energy_gaps.append(gap)\n",
    "    data.energy_gap = gap\n",
    "    data_list.append(data)\n",
    "\n",
    "threshold = np.quantile(energy_gaps, 0.25)  # Top 25% most reactive as \"good candidates\"\n",
    "print(f\"Energy gap threshold: {threshold:.4f}\")\n",
    "\n",
    "for data in data_list:\n",
    "    data.y = torch.tensor([1 if data.energy_gap < threshold else 0], dtype=torch.long)\n"
   ]
  },
  {
   "cell_type": "markdown",
   "id": "655bc3d5",
   "metadata": {},
   "source": [
    "## 📊 Class Balance"
   ]
  },
  {
   "cell_type": "code",
   "execution_count": null,
   "id": "75a31694",
   "metadata": {},
   "outputs": [],
   "source": [
    "\n",
    "labels = [data.y.item() for data in data_list]\n",
    "sns.countplot(x=labels)\n",
    "plt.title(\"Class Distribution (0: Not Good, 1: Good Candidate)\")\n",
    "plt.show()\n"
   ]
  },
  {
   "cell_type": "markdown",
   "id": "55426f96",
   "metadata": {},
   "source": [
    "## 🔍 Explore Features"
   ]
  },
  {
   "cell_type": "code",
   "execution_count": null,
   "id": "3d8d7097",
   "metadata": {},
   "outputs": [],
   "source": [
    "\n",
    "example = data_list[0]\n",
    "print(f\"Number of atoms: {example.z.size(0)}\")\n",
    "print(\"Atomic numbers:\", example.z.tolist())\n",
    "print(\"Positions shape:\", example.pos.shape)\n"
   ]
  },
  {
   "cell_type": "markdown",
   "id": "e22e0db6",
   "metadata": {},
   "source": [
    "## 🔀 Train/Validation/Test Split"
   ]
  },
  {
   "cell_type": "code",
   "execution_count": null,
   "id": "9d6b1f93",
   "metadata": {},
   "outputs": [],
   "source": [
    "\n",
    "train, test = train_test_split(data_list, test_size=0.2, random_state=42, stratify=labels)\n",
    "train, val = train_test_split(train, test_size=0.25, random_state=42, stratify=[d.y.item() for d in train])\n",
    "\n",
    "print(f\"Train: {len(train)}, Validation: {len(val)}, Test: {len(test)}\")\n"
   ]
  }
 ],
 "metadata": {
  "kernelspec": {
   "display_name": "Python 3 (ipykernel)",
   "language": "python",
   "name": "python3"
  },
  "language_info": {
   "codemirror_mode": {
    "name": "ipython",
    "version": 3
   },
   "file_extension": ".py",
   "mimetype": "text/x-python",
   "name": "python",
   "nbconvert_exporter": "python",
   "pygments_lexer": "ipython3",
   "version": "3.13.2"
  }
 },
 "nbformat": 4,
 "nbformat_minor": 5
}
